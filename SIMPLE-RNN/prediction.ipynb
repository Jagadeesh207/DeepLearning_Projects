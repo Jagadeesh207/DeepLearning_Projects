{
 "cells": [
  {
   "cell_type": "code",
   "execution_count": 5,
   "id": "7912e9b0",
   "metadata": {},
   "outputs": [],
   "source": [
    "from tensorflow.keras.models import Sequential,load_model\n",
    "from tensorflow.keras.layers import Dense,SimpleRNN,Embedding\n",
    "from tensorflow.keras.datasets import imdb\n",
    "from tensorflow.keras.preprocessing import sequence"
   ]
  },
  {
   "cell_type": "code",
   "execution_count": 3,
   "id": "885b1f64",
   "metadata": {},
   "outputs": [],
   "source": [
    "word_index=imdb.get_word_index()\n",
    "reversed_word_index={value:key for key,value in word_index.items()}"
   ]
  },
  {
   "cell_type": "code",
   "execution_count": 6,
   "id": "d37d7704",
   "metadata": {},
   "outputs": [
    {
     "name": "stderr",
     "output_type": "stream",
     "text": [
      "WARNING:absl:Compiled the loaded model, but the compiled metrics have yet to be built. `model.compile_metrics` will be empty until you train or evaluate the model.\n"
     ]
    }
   ],
   "source": [
    "model=load_model('simple_rnn_imdb.h5')"
   ]
  },
  {
   "cell_type": "code",
   "execution_count": 7,
   "id": "c674e0b1",
   "metadata": {},
   "outputs": [
    {
     "data": {
      "text/html": [
       "<pre style=\"white-space:pre;overflow-x:auto;line-height:normal;font-family:Menlo,'DejaVu Sans Mono',consolas,'Courier New',monospace\"><span style=\"font-weight: bold\">Model: \"sequential_7\"</span>\n",
       "</pre>\n"
      ],
      "text/plain": [
       "\u001b[1mModel: \"sequential_7\"\u001b[0m\n"
      ]
     },
     "metadata": {},
     "output_type": "display_data"
    },
    {
     "data": {
      "text/html": [
       "<pre style=\"white-space:pre;overflow-x:auto;line-height:normal;font-family:Menlo,'DejaVu Sans Mono',consolas,'Courier New',monospace\">┏━━━━━━━━━━━━━━━━━━━━━━━━━━━━━━━━━┳━━━━━━━━━━━━━━━━━━━━━━━━┳━━━━━━━━━━━━━━━┓\n",
       "┃<span style=\"font-weight: bold\"> Layer (type)                    </span>┃<span style=\"font-weight: bold\"> Output Shape           </span>┃<span style=\"font-weight: bold\">       Param # </span>┃\n",
       "┡━━━━━━━━━━━━━━━━━━━━━━━━━━━━━━━━━╇━━━━━━━━━━━━━━━━━━━━━━━━╇━━━━━━━━━━━━━━━┩\n",
       "│ embedding_5 (<span style=\"color: #0087ff; text-decoration-color: #0087ff\">Embedding</span>)         │ (<span style=\"color: #00d7ff; text-decoration-color: #00d7ff\">None</span>, <span style=\"color: #00af00; text-decoration-color: #00af00\">200</span>, <span style=\"color: #00af00; text-decoration-color: #00af00\">128</span>)       │     <span style=\"color: #00af00; text-decoration-color: #00af00\">1,280,000</span> │\n",
       "├─────────────────────────────────┼────────────────────────┼───────────────┤\n",
       "│ simple_rnn_4 (<span style=\"color: #0087ff; text-decoration-color: #0087ff\">SimpleRNN</span>)        │ (<span style=\"color: #00d7ff; text-decoration-color: #00d7ff\">None</span>, <span style=\"color: #00af00; text-decoration-color: #00af00\">128</span>)            │        <span style=\"color: #00af00; text-decoration-color: #00af00\">32,896</span> │\n",
       "├─────────────────────────────────┼────────────────────────┼───────────────┤\n",
       "│ dense_3 (<span style=\"color: #0087ff; text-decoration-color: #0087ff\">Dense</span>)                 │ (<span style=\"color: #00d7ff; text-decoration-color: #00d7ff\">None</span>, <span style=\"color: #00af00; text-decoration-color: #00af00\">1</span>)              │           <span style=\"color: #00af00; text-decoration-color: #00af00\">129</span> │\n",
       "└─────────────────────────────────┴────────────────────────┴───────────────┘\n",
       "</pre>\n"
      ],
      "text/plain": [
       "┏━━━━━━━━━━━━━━━━━━━━━━━━━━━━━━━━━┳━━━━━━━━━━━━━━━━━━━━━━━━┳━━━━━━━━━━━━━━━┓\n",
       "┃\u001b[1m \u001b[0m\u001b[1mLayer (type)                   \u001b[0m\u001b[1m \u001b[0m┃\u001b[1m \u001b[0m\u001b[1mOutput Shape          \u001b[0m\u001b[1m \u001b[0m┃\u001b[1m \u001b[0m\u001b[1m      Param #\u001b[0m\u001b[1m \u001b[0m┃\n",
       "┡━━━━━━━━━━━━━━━━━━━━━━━━━━━━━━━━━╇━━━━━━━━━━━━━━━━━━━━━━━━╇━━━━━━━━━━━━━━━┩\n",
       "│ embedding_5 (\u001b[38;5;33mEmbedding\u001b[0m)         │ (\u001b[38;5;45mNone\u001b[0m, \u001b[38;5;34m200\u001b[0m, \u001b[38;5;34m128\u001b[0m)       │     \u001b[38;5;34m1,280,000\u001b[0m │\n",
       "├─────────────────────────────────┼────────────────────────┼───────────────┤\n",
       "│ simple_rnn_4 (\u001b[38;5;33mSimpleRNN\u001b[0m)        │ (\u001b[38;5;45mNone\u001b[0m, \u001b[38;5;34m128\u001b[0m)            │        \u001b[38;5;34m32,896\u001b[0m │\n",
       "├─────────────────────────────────┼────────────────────────┼───────────────┤\n",
       "│ dense_3 (\u001b[38;5;33mDense\u001b[0m)                 │ (\u001b[38;5;45mNone\u001b[0m, \u001b[38;5;34m1\u001b[0m)              │           \u001b[38;5;34m129\u001b[0m │\n",
       "└─────────────────────────────────┴────────────────────────┴───────────────┘\n"
      ]
     },
     "metadata": {},
     "output_type": "display_data"
    },
    {
     "data": {
      "text/html": [
       "<pre style=\"white-space:pre;overflow-x:auto;line-height:normal;font-family:Menlo,'DejaVu Sans Mono',consolas,'Courier New',monospace\"><span style=\"font-weight: bold\"> Total params: </span><span style=\"color: #00af00; text-decoration-color: #00af00\">1,313,027</span> (5.01 MB)\n",
       "</pre>\n"
      ],
      "text/plain": [
       "\u001b[1m Total params: \u001b[0m\u001b[38;5;34m1,313,027\u001b[0m (5.01 MB)\n"
      ]
     },
     "metadata": {},
     "output_type": "display_data"
    },
    {
     "data": {
      "text/html": [
       "<pre style=\"white-space:pre;overflow-x:auto;line-height:normal;font-family:Menlo,'DejaVu Sans Mono',consolas,'Courier New',monospace\"><span style=\"font-weight: bold\"> Trainable params: </span><span style=\"color: #00af00; text-decoration-color: #00af00\">1,313,025</span> (5.01 MB)\n",
       "</pre>\n"
      ],
      "text/plain": [
       "\u001b[1m Trainable params: \u001b[0m\u001b[38;5;34m1,313,025\u001b[0m (5.01 MB)\n"
      ]
     },
     "metadata": {},
     "output_type": "display_data"
    },
    {
     "data": {
      "text/html": [
       "<pre style=\"white-space:pre;overflow-x:auto;line-height:normal;font-family:Menlo,'DejaVu Sans Mono',consolas,'Courier New',monospace\"><span style=\"font-weight: bold\"> Non-trainable params: </span><span style=\"color: #00af00; text-decoration-color: #00af00\">0</span> (0.00 B)\n",
       "</pre>\n"
      ],
      "text/plain": [
       "\u001b[1m Non-trainable params: \u001b[0m\u001b[38;5;34m0\u001b[0m (0.00 B)\n"
      ]
     },
     "metadata": {},
     "output_type": "display_data"
    },
    {
     "data": {
      "text/html": [
       "<pre style=\"white-space:pre;overflow-x:auto;line-height:normal;font-family:Menlo,'DejaVu Sans Mono',consolas,'Courier New',monospace\"><span style=\"font-weight: bold\"> Optimizer params: </span><span style=\"color: #00af00; text-decoration-color: #00af00\">2</span> (12.00 B)\n",
       "</pre>\n"
      ],
      "text/plain": [
       "\u001b[1m Optimizer params: \u001b[0m\u001b[38;5;34m2\u001b[0m (12.00 B)\n"
      ]
     },
     "metadata": {},
     "output_type": "display_data"
    }
   ],
   "source": [
    "model.summary()"
   ]
  },
  {
   "cell_type": "code",
   "execution_count": 10,
   "id": "ccfb4660",
   "metadata": {},
   "outputs": [
    {
     "data": {
      "text/plain": [
       "[<Variable path=sequential_7/embedding_5/embeddings, shape=(10000, 128), dtype=float32, value=[[-0.1579209  -0.7944646  -0.5848729  ...  0.31826112  0.31568307\n",
       "    0.26202083]\n",
       "  [ 0.00269635 -0.08671962  0.01333705 ...  0.03790532 -0.04158057\n",
       "   -0.07289447]\n",
       "  [-0.10507993 -0.15694335 -0.15629762 ...  0.02481078 -0.09032906\n",
       "   -0.23159121]\n",
       "  ...\n",
       "  [-0.03621292 -0.01667756  0.03665846 ...  0.00253278  0.03587114\n",
       "   -0.01703805]\n",
       "  [ 0.12046957  0.14149809  0.06955914 ...  0.03957028  0.03262229\n",
       "   -0.13771558]\n",
       "  [ 0.10179795 -0.0074832  -0.07087096 ... -0.03440177  0.01026359\n",
       "    0.1007484 ]]>,\n",
       " <Variable path=sequential_7/simple_rnn_4/simple_rnn_cell/kernel, shape=(128, 128), dtype=float32, value=[[ 0.02312728 -0.05417453  0.00127115 ...  0.14688008  0.11737542\n",
       "    0.14240532]\n",
       "  [-0.04489541 -0.07961182 -0.06160703 ...  0.07122011  0.19740303\n",
       "   -0.15099224]\n",
       "  [-0.10723075 -0.04427017 -0.0430157  ...  0.25084215 -0.11555833\n",
       "    0.03675208]\n",
       "  ...\n",
       "  [-0.16950569 -0.0032682  -0.14392856 ...  0.1350822  -0.13900545\n",
       "   -0.13574219]\n",
       "  [ 0.17901248 -0.12960102  0.17783873 ...  0.14341734 -0.04238314\n",
       "    0.12566112]\n",
       "  [-0.0721129  -0.07109762  0.0787645  ...  0.00027469  0.08574867\n",
       "   -0.08626655]]>,\n",
       " <Variable path=sequential_7/simple_rnn_4/simple_rnn_cell/recurrent_kernel, shape=(128, 128), dtype=float32, value=[[-0.29555672 -0.10078155 -0.08247199 ... -0.17883497 -0.10949149\n",
       "   -0.06443968]\n",
       "  [-0.08833253  0.01724401 -0.01261276 ... -0.19593629  0.02824146\n",
       "   -0.01280009]\n",
       "  [ 0.08491421  0.09879326  0.10705674 ... -0.20802335 -0.08852209\n",
       "   -0.03673977]\n",
       "  ...\n",
       "  [ 0.02384462  0.08287996  0.0423139  ... -0.03834053 -0.08940943\n",
       "    0.06442514]\n",
       "  [ 0.01209953 -0.20565979  0.0491733  ...  0.03825629 -0.29565597\n",
       "   -0.08555928]\n",
       "  [-0.0164369  -0.08911265  0.01215294 ... -0.13307463 -0.30812937\n",
       "   -0.04635068]]>,\n",
       " <Variable path=sequential_7/simple_rnn_4/simple_rnn_cell/bias, shape=(128,), dtype=float32, value=[-1.2458073e-03  1.5341140e-02 -1.2561924e-02  3.9970599e-02\n",
       "  -2.0769106e-02  4.6786070e-02  2.0438401e-02 -1.8246058e-02\n",
       "   2.1767890e-02  1.6346214e-02 -1.6457619e-02 -2.3665197e-02\n",
       "   5.4431114e-02 -2.4593422e-02 -4.5127507e-02  6.5230437e-02\n",
       "  -3.3370029e-02 -5.3300109e-02 -3.4310725e-02 -2.3089286e-02\n",
       "  -3.1693853e-02 -2.3822267e-02 -3.5560243e-02 -3.1841286e-02\n",
       "   9.0877165e-04 -5.7522904e-02  5.7383493e-02 -4.5503996e-02\n",
       "  -1.4568308e-02 -4.4036046e-02 -5.9728742e-02  2.2676822e-03\n",
       "  -1.7501188e-02 -1.0614390e-01  6.1501134e-03 -2.6100339e-02\n",
       "   3.4613393e-02 -5.4336157e-02  3.5227973e-02  2.0333484e-02\n",
       "  -2.2144649e-02  2.0273635e-02  1.8937169e-02 -1.0853844e-02\n",
       "   2.2280389e-02 -1.7741984e-03 -4.9574755e-02 -2.4305968e-02\n",
       "   5.9571330e-02 -5.4624453e-02 -2.3869636e-02  2.0335414e-02\n",
       "   2.3651853e-02 -4.7459334e-02  2.2130467e-02  2.9595397e-04\n",
       "  -3.8990065e-02 -1.4934528e-02 -6.3687033e-04  7.9507967e-03\n",
       "  -5.4847020e-05 -3.6238261e-02 -1.4029845e-02 -1.4079972e-02\n",
       "   1.5285029e-02  3.7622008e-02 -4.3090805e-02 -3.1675581e-02\n",
       "   3.0582290e-02 -2.8380794e-02 -3.6076553e-02 -1.4292112e-03\n",
       "   3.5186063e-02  4.7631625e-02 -4.1264609e-02  6.9928900e-03\n",
       "   1.6209936e-02 -2.0903360e-02 -3.8011439e-02 -4.2257104e-02\n",
       "  -4.6154082e-02 -3.2247294e-02  9.9796532e-03  2.5945464e-02\n",
       "  -2.3697684e-02 -3.4860138e-02  4.5961037e-02  1.6976101e-02\n",
       "   4.7407750e-02  4.6823613e-02  4.5636714e-02 -3.2741845e-02\n",
       "   4.3741964e-02 -3.2895945e-02 -2.3741871e-02 -1.4385444e-02\n",
       "   2.5996029e-02  9.9250004e-03 -1.1104227e-02  7.6826382e-03\n",
       "  -2.0569116e-02  3.0432973e-02 -1.6019987e-02  2.3601304e-03\n",
       "   4.6942111e-02  1.6340183e-02 -4.3036170e-02  1.1696286e-02\n",
       "  -5.1171418e-02  3.3247493e-02 -2.9208131e-02  4.3645736e-02\n",
       "  -1.3818217e-02 -1.6189180e-02 -2.6447780e-02  1.4112022e-02\n",
       "  -4.8596725e-02 -4.9623702e-02 -5.2374534e-02  6.6030696e-02\n",
       "   5.9270389e-02 -2.0668415e-02 -2.0949375e-02  1.1686088e-02\n",
       "  -3.8608808e-02  5.7754710e-02 -6.1908521e-02 -3.5210934e-03]>,\n",
       " <Variable path=sequential_7/dense_3/kernel, shape=(128, 1), dtype=float32, value=[[ 0.2952196 ]\n",
       "  [ 0.25214496]\n",
       "  [ 0.11679454]\n",
       "  [-0.19425511]\n",
       "  [ 0.18815058]\n",
       "  [ 0.34439725]\n",
       "  [-0.10636829]\n",
       "  [ 0.20881255]\n",
       "  [-0.29985374]\n",
       "  [-0.24816638]\n",
       "  [-0.08331774]\n",
       "  [-0.03623031]\n",
       "  [ 0.40033823]\n",
       "  [-0.07938334]\n",
       "  [-0.00073998]\n",
       "  [-0.22158287]\n",
       "  [-0.5442909 ]\n",
       "  [-0.2839511 ]\n",
       "  [ 0.11823732]\n",
       "  [ 0.5211605 ]\n",
       "  [ 0.16108939]\n",
       "  [ 0.50963295]\n",
       "  [ 0.22375615]\n",
       "  [ 0.24369386]\n",
       "  [ 0.2455394 ]\n",
       "  [ 0.00197312]\n",
       "  [ 0.04587841]\n",
       "  [-0.01425504]\n",
       "  [-0.27829123]\n",
       "  [-0.03470173]\n",
       "  [-0.18005705]\n",
       "  [-0.09301139]\n",
       "  [-0.12778695]\n",
       "  [-0.21964568]\n",
       "  [ 0.39404017]\n",
       "  [-0.12789153]\n",
       "  [ 0.00671709]\n",
       "  [ 0.04277958]\n",
       "  [ 0.26871294]\n",
       "  [-0.14989652]\n",
       "  [ 0.32990727]\n",
       "  [ 0.01925956]\n",
       "  [ 0.17316258]\n",
       "  [ 0.12249023]\n",
       "  [-0.19997846]\n",
       "  [ 0.01376508]\n",
       "  [ 0.08881118]\n",
       "  [ 0.02208426]\n",
       "  [ 0.07950629]\n",
       "  [-0.15169163]\n",
       "  [-0.18432043]\n",
       "  [ 0.31027314]\n",
       "  [ 0.11831656]\n",
       "  [ 0.07384497]\n",
       "  [-0.06761735]\n",
       "  [ 0.31865877]\n",
       "  [-0.06368703]\n",
       "  [ 0.3658277 ]\n",
       "  [-0.0376573 ]\n",
       "  [-0.09123728]\n",
       "  [ 0.22064866]\n",
       "  [-0.0671928 ]\n",
       "  [-0.16972603]\n",
       "  [ 0.14288434]\n",
       "  [ 0.46947634]\n",
       "  [-0.13537315]\n",
       "  [-0.12151198]\n",
       "  [ 0.1335093 ]\n",
       "  [-0.06527793]\n",
       "  [ 0.20284596]\n",
       "  [ 0.19635965]\n",
       "  [ 0.26730454]\n",
       "  [ 0.05612186]\n",
       "  [-0.03300829]\n",
       "  [-0.23658071]\n",
       "  [-0.13422665]\n",
       "  [ 0.02930614]\n",
       "  [ 0.09800333]\n",
       "  [ 0.13149367]\n",
       "  [ 0.03543886]\n",
       "  [ 0.03772505]\n",
       "  [ 0.08999307]\n",
       "  [-0.09409714]\n",
       "  [-0.2676566 ]\n",
       "  [ 0.54243255]\n",
       "  [-0.17572977]\n",
       "  [-0.00661677]\n",
       "  [-0.14714038]\n",
       "  [-0.05502357]\n",
       "  [-0.08316224]\n",
       "  [ 0.04365568]\n",
       "  [ 0.01356486]\n",
       "  [-0.12912382]\n",
       "  [ 0.00099981]\n",
       "  [ 0.07676659]\n",
       "  [ 0.0065909 ]\n",
       "  [ 0.17727056]\n",
       "  [-0.24171   ]\n",
       "  [-0.07737867]\n",
       "  [-0.18549512]\n",
       "  [-0.06362836]\n",
       "  [-0.12546416]\n",
       "  [-0.028554  ]\n",
       "  [-0.06560844]\n",
       "  [-0.16497245]\n",
       "  [ 0.12863874]\n",
       "  [-0.14808725]\n",
       "  [ 0.16685124]\n",
       "  [ 0.13189137]\n",
       "  [-0.09299853]\n",
       "  [-0.04864354]\n",
       "  [ 0.02638431]\n",
       "  [-0.11816792]\n",
       "  [ 0.14005737]\n",
       "  [-0.05838091]\n",
       "  [ 0.48389822]\n",
       "  [-0.04240296]\n",
       "  [-0.16519386]\n",
       "  [ 0.23651183]\n",
       "  [ 0.16077821]\n",
       "  [-0.05859013]\n",
       "  [-0.03351289]\n",
       "  [ 0.01587047]\n",
       "  [ 0.1801752 ]\n",
       "  [ 0.12294674]\n",
       "  [-0.22574282]\n",
       "  [-0.28257555]\n",
       "  [ 0.07749603]]>,\n",
       " <Variable path=sequential_7/dense_3/bias, shape=(1,), dtype=float32, value=[0.3624662]>]"
      ]
     },
     "execution_count": 10,
     "metadata": {},
     "output_type": "execute_result"
    }
   ],
   "source": [
    "model.trainable_weights"
   ]
  },
  {
   "cell_type": "code",
   "execution_count": 11,
   "id": "afb41841",
   "metadata": {},
   "outputs": [],
   "source": [
    "def decoded_review(encoded_review):\n",
    "    return ' '.join([reversed_word_index.get(i-1,'?') for i in encoded_review])\n"
   ]
  },
  {
   "cell_type": "code",
   "execution_count": 12,
   "id": "0770f963",
   "metadata": {},
   "outputs": [],
   "source": [
    "def preprocess_text(text):\n",
    "    words=text.lower().split()\n",
    "    encoded_review=[word_index.get(word,2)+3 for word in words]\n",
    "    padded_review=sequence.pad_sequences([encoded_review],maxlen=200)\n",
    "    return padded_review"
   ]
  },
  {
   "cell_type": "markdown",
   "id": "65db50d3",
   "metadata": {},
   "source": [
    "Step-by-Step\n",
    "\n",
    "text.lower().split()\n",
    "\n",
    "Converts everything to lowercase.\n",
    "\n",
    "Splits sentence into words.\n",
    "\n",
    "Example: \"The Movie Was Good\" → [\"the\", \"movie\", \"was\", \"good\"].\n",
    "\n",
    "word_index.get(word, 2) + 3\n",
    "\n",
    "word_index is a dictionary mapping words → integer IDs.\n",
    "\n",
    "get(word, 2) → returns the ID of the word if found, otherwise 2 (which stands for unknown word in IMDB).\n",
    "\n",
    "+3 → adjusts the index because IMDB reserves the first 3 indices:\n",
    "\n",
    "0 = padding\n",
    "\n",
    "1 = start of sequence\n",
    "\n",
    "2 = unknown word\n",
    "\n",
    "So the real vocabulary starts at index 3.\n",
    "\n",
    "sequence.pad_sequences([encoded_review], maxlen=200)\n",
    "\n",
    "Makes sure all reviews have the same length (200 here).\n",
    "\n",
    "If review is shorter → pads with zeros at the beginning.\n",
    "\n",
    "If review is longer → truncates from the start.\n",
    "\n",
    "Output shape: (1, 200)"
   ]
  },
  {
   "cell_type": "code",
   "execution_count": 16,
   "id": "9ebd053b",
   "metadata": {},
   "outputs": [],
   "source": [
    "def predict_sentiment(review):\n",
    "    preprocessed_input=preprocess_text(review)\n",
    "    prediction=model.predict(preprocessed_input)\n",
    "\n",
    "    sentiment='Positive' if prediction[0][0]>0.5 else 'Negative'\n",
    "    return prediction,sentiment\n"
   ]
  },
  {
   "cell_type": "code",
   "execution_count": 17,
   "id": "7cb4aee4",
   "metadata": {},
   "outputs": [],
   "source": [
    "example_review='''The Movie was Amazing! such a fantastic art'''"
   ]
  },
  {
   "cell_type": "code",
   "execution_count": 18,
   "id": "367e3f35",
   "metadata": {},
   "outputs": [
    {
     "name": "stdout",
     "output_type": "stream",
     "text": [
      "\u001b[1m1/1\u001b[0m \u001b[32m━━━━━━━━━━━━━━━━━━━━\u001b[0m\u001b[37m\u001b[0m \u001b[1m0s\u001b[0m 122ms/step\n"
     ]
    }
   ],
   "source": [
    "sentiment,score=predict_sentiment(example_review)"
   ]
  },
  {
   "cell_type": "code",
   "execution_count": 19,
   "id": "1d5468d7",
   "metadata": {},
   "outputs": [
    {
     "name": "stdout",
     "output_type": "stream",
     "text": [
      "sentiment:[[0.9808817]]\n",
      "Score:Positive\n"
     ]
    }
   ],
   "source": [
    "print(f'sentiment:{sentiment}')\n",
    "print(f'Score:{score}')"
   ]
  }
 ],
 "metadata": {
  "kernelspec": {
   "display_name": "venv",
   "language": "python",
   "name": "python3"
  },
  "language_info": {
   "codemirror_mode": {
    "name": "ipython",
    "version": 3
   },
   "file_extension": ".py",
   "mimetype": "text/x-python",
   "name": "python",
   "nbconvert_exporter": "python",
   "pygments_lexer": "ipython3",
   "version": "3.11.0"
  }
 },
 "nbformat": 4,
 "nbformat_minor": 5
}
